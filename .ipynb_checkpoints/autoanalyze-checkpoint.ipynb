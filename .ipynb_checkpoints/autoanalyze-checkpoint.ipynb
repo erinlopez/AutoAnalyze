{
 "cells": [
  {
   "cell_type": "code",
   "execution_count": 1,
   "metadata": {
    "scrolled": true
   },
   "outputs": [],
   "source": [
    "from openpyxl.reader.excel import load_workbook\n",
    "import pandas as pd \n",
    "import numpy as np\n",
    "from itertools import islice\n",
    "from openpyxl.utils import FORMULAE\n",
    "from openpyxl.utils.dataframe import dataframe_to_rows\n",
    "from openpyxl.styles import Border, Side\n",
    "from openpyxl.formatting.rule import ColorScaleRule, CellIsRule, FormulaRule"
   ]
  },
  {
   "cell_type": "code",
   "execution_count": 2,
   "metadata": {},
   "outputs": [
    {
     "name": "stdout",
     "output_type": "stream",
     "text": [
      "                 1       2       3       4       5       6       7       8   \\\n",
      "A                S1      S2      S3      S4      S5      S6      S7      S8   \n",
      "B                S1      S2      S3      S4      S5      S6      S7      S8   \n",
      "C               S13     S14     S15     S16     S17     S18     S19     S20   \n",
      "D               S13     S14     S15     S16     S17     S18     S19     S20   \n",
      "E               S25     S26     S27     S28     S29     S30     S31     S32   \n",
      "F               S25     S26     S27     S28     S29     S30     S31     S32   \n",
      "G                 A       B       C       D       E       F       G       H   \n",
      "H                 A       B       C       D       E       F       G       H   \n",
      "NaN            None    None    None    None    None    None    None    None   \n",
      "NaN               1       2       3       4       5       6       7       8   \n",
      "Raw Data          1       2       3       4       5       6       7       8   \n",
      "A            0.7000  0.6000  0.4000  0.2000  0.6000  0.1000  0.9900  0.7000   \n",
      "B            0.8000  0.9300  0.4300  0.2400  0.9300  0.1000  1.0300  0.8900   \n",
      "C            1.2000  1.6000  1.3000  1.6000  1.3000  1.9000  1.3000  1.7000   \n",
      "D            1.5000  1.2000  1.4000  1.6000       1  1.8000  1.4000  1.2000   \n",
      "E              None    None    None    None    None    None    None    None   \n",
      "F              None    None    None    None    None    None    None    None   \n",
      "G            1.9515  1.5010  0.9925  0.7905  0.5590  0.3195  0.2250  0.1275   \n",
      "H            1.9732  1.4900  1.0020  0.7623  0.6030  0.3199  0.2400  0.1425   \n",
      "NaN            None    None    None    None    None    None    None    None   \n",
      "Avg BG:      0.0964    None    None    None    None    None    None    None   \n",
      "NaN               1       2       3       4       5       6       7       8   \n",
      "BG Subtract       1       2       3       4       5       6       7       8   \n",
      "A            0.6036  0.5036  0.3036  0.1036  0.5036  0.0036  0.8936  0.6036   \n",
      "B            0.7036  0.8336  0.3336  0.1436  0.8336  0.0036  0.9336  0.7936   \n",
      "C            1.1036  1.5036  1.2036  1.5036  1.2036  1.8036  1.2036  1.6036   \n",
      "D            1.4036  1.1036  1.3036  1.5036  0.9036  1.7036  1.3036  1.1036   \n",
      "E              None    None    None    None    None    None    None    None   \n",
      "F              None    None    None    None    None    None    None    None   \n",
      "G            1.8551  1.4046  0.8961  0.6941  0.4626  0.2231  0.1286  0.0311   \n",
      "H            1.8768  1.3936  0.9056  0.6659  0.5066  0.2235  0.1436  0.0461   \n",
      "H            1.8768  1.3936  0.9056  0.6659  0.5066  0.2235  0.1436  0.0461   \n",
      "\n",
      "                 9       10      11      12  \n",
      "A                S9     S10     S11     S12  \n",
      "B                S9     S10     S11     S12  \n",
      "C               S21     S22     S23     S24  \n",
      "D               S21     S22     S23     S24  \n",
      "E               S33     S34     S35     S36  \n",
      "F               S33     S34     S35     S36  \n",
      "G                 I    None    None    None  \n",
      "H                 I    None    None    None  \n",
      "NaN            None    None    None    None  \n",
      "NaN               9      10      11      12  \n",
      "Raw Data          9      10      11      12  \n",
      "A            0.9300  0.8700  0.1500  0.6700  \n",
      "B            0.8100  0.3900  0.1400  0.7700  \n",
      "C            1.3300  1.5000  1.2000  1.4000  \n",
      "D            1.5000  1.2000  1.4000  1.3000  \n",
      "E              None    None    None    None  \n",
      "F              None    None    None    None  \n",
      "G            0.0945    None    None    None  \n",
      "H            0.0983    None    None    None  \n",
      "NaN            None    None    None    None  \n",
      "Avg BG:        None    None    None    None  \n",
      "NaN               9      10      11      12  \n",
      "BG Subtract       9      10      11      12  \n",
      "A            0.8336  0.7736  0.0536  0.5736  \n",
      "B            0.7136  0.2936  0.0436  0.6736  \n",
      "C            1.2336  1.4036  1.1036  1.3036  \n",
      "D            1.4036  1.1036  1.3036  1.2036  \n",
      "E              None    None    None    None  \n",
      "F              None    None    None    None  \n",
      "G           -0.0019    None    None    None  \n",
      "H            0.0019    None    None    None  \n",
      "H            0.0019    None    None    None   \n",
      "        1      2       3       4      5       6      7       8       9     10  \\\n",
      "A  0.7000  0.600  0.4000  0.2000  0.600  0.1000  0.990  0.7000  0.9300  0.87   \n",
      "B  0.8000  0.930  0.4300  0.2400  0.930  0.1000  1.030  0.8900  0.8100  0.39   \n",
      "C  1.2000  1.600  1.3000  1.6000  1.300  1.9000  1.300  1.7000  1.3300  1.50   \n",
      "D  1.5000  1.200  1.4000  1.6000  1.000  1.8000  1.400  1.2000  1.5000  1.20   \n",
      "E     NaN    NaN     NaN     NaN    NaN     NaN    NaN     NaN     NaN   NaN   \n",
      "F     NaN    NaN     NaN     NaN    NaN     NaN    NaN     NaN     NaN   NaN   \n",
      "G  1.9515  1.501  0.9925  0.7905  0.559  0.3195  0.225  0.1275  0.0945   NaN   \n",
      "H  1.9732  1.490  1.0020  0.7623  0.603  0.3199  0.240  0.1425  0.0983   NaN   \n",
      "\n",
      "     11    12  \n",
      "A  0.15  0.67  \n",
      "B  0.14  0.77  \n",
      "C  1.20  1.40  \n",
      "D  1.40  1.30  \n",
      "E   NaN   NaN  \n",
      "F   NaN   NaN  \n",
      "G   NaN   NaN  \n",
      "H   NaN   NaN  \n"
     ]
    }
   ],
   "source": [
    "# wb = load_workbook('sample.xlsx')\n",
    "\n",
    "filename = 'sample.xlsx'\n",
    "wb = load_workbook(filename)\n",
    "ws = wb['Sheet1']\n",
    "\n",
    "#create df of plate map\n",
    "samp = ws.values\n",
    "columns = next(samp)[1:]\n",
    "samp = list(samp)\n",
    "idx = [r[0] for r in samp]\n",
    "samp = (islice(r, 1, None) for r in samp)\n",
    "df = pd.DataFrame(samp, index=idx, columns=columns)\n",
    "\n",
    "#create df of raw data values\n",
    "ws2 = wb['Sheet2']\n",
    "\n",
    "data = ws2.values\n",
    "columns = next(data)[1:]\n",
    "data = list(data)\n",
    "idx = [r[0] for r in data]\n",
    "data = (islice(r, 1, None) for r in data)\n",
    "df2 = pd.DataFrame(data, index=idx, columns=columns)\n",
    "\n",
    "print(df, '\\n', df2)"
   ]
  },
  {
   "cell_type": "code",
   "execution_count": 3,
   "metadata": {
    "scrolled": true
   },
   "outputs": [],
   "source": [
    "#find position of specific value in df\n",
    "\n",
    "def findPosInDf(dfIn,findme):\n",
    "    positions = []\n",
    "    irow =0\n",
    "    while ( irow < len(dfIn.index)):\n",
    "        list_colPositions=dfIn.columns[dfIn.iloc[irow,:]==findme].tolist()   \n",
    "        if list_colPositions != []:\n",
    "            colu_iloc = dfIn.columns.get_loc(list_colPositions[0])\n",
    "            positions.append([irow  , colu_iloc ])\n",
    "        irow +=1\n",
    "\n",
    "    return positions\n",
    "\n",
    "\n",
    "#print(findPosInDf(df, 'I'))\n",
    "\n",
    "bgPos = findPosInDf(df, 'I')\n",
    "\n",
    "#loop to give value at every position of 'I'\n",
    "value = []\n",
    "for x in bgPos:  \n",
    "    value.append(df2.iat[x[0],x[1]]) #returns all values for I\n",
    "   \n",
    "#print(value)\n"
   ]
  },
  {
   "cell_type": "code",
   "execution_count": 4,
   "metadata": {},
   "outputs": [],
   "source": [
    "#avg all bgPos values from loop\n",
    "\n",
    "def avg(value):\n",
    "    return sum(value) / len(value)\n",
    "\n",
    "avg(value)\n",
    "bgAvg = avg(value)"
   ]
  },
  {
   "cell_type": "code",
   "execution_count": 5,
   "metadata": {},
   "outputs": [],
   "source": [
    "#paste df2 under df in first excel sheet\n",
    "\n",
    "rows = dataframe_to_rows(df2)\n",
    "\n",
    "for r_idx, row in enumerate(rows, 11):\n",
    "    for c_idx, value in enumerate(row, 1):\n",
    "        ws.cell(row=r_idx, column=c_idx, value=value)\n"
   ]
  },
  {
   "cell_type": "code",
   "execution_count": 6,
   "metadata": {},
   "outputs": [],
   "source": [
    "#input table titles into excel\n",
    "ws['A1'] = 'Plate Map'\n",
    "ws['A12'] = 'Raw Data'\n",
    "\n",
    "ws['A22'] = 'Avg BG:'\n",
    "ws['B22'] = bgAvg\n",
    "\n",
    "ws['A24'] = 'BG Subtract'\n",
    "wb.save(filename)"
   ]
  },
  {
   "cell_type": "code",
   "execution_count": 7,
   "metadata": {},
   "outputs": [],
   "source": [
    "#format border around cells"
   ]
  },
  {
   "cell_type": "code",
   "execution_count": 8,
   "metadata": {},
   "outputs": [
    {
     "name": "stdout",
     "output_type": "stream",
     "text": [
      "       1       2       3       4       5       6       7       8       9   \\\n",
      "A  0.6036  0.5036  0.3036  0.1036  0.5036  0.0036  0.8936  0.6036  0.8336   \n",
      "B  0.7036  0.8336  0.3336  0.1436  0.8336  0.0036  0.9336  0.7936  0.7136   \n",
      "C  1.1036  1.5036  1.2036  1.5036  1.2036  1.8036  1.2036  1.6036  1.2336   \n",
      "D  1.4036  1.1036  1.3036  1.5036  0.9036  1.7036  1.3036  1.1036  1.4036   \n",
      "E     NaN     NaN     NaN     NaN     NaN     NaN     NaN     NaN     NaN   \n",
      "F     NaN     NaN     NaN     NaN     NaN     NaN     NaN     NaN     NaN   \n",
      "G  1.8551  1.4046  0.8961  0.6941  0.4626  0.2231  0.1286  0.0311 -0.0019   \n",
      "H  1.8768  1.3936  0.9056  0.6659  0.5066  0.2235  0.1436  0.0461  0.0019   \n",
      "\n",
      "       10      11      12  \n",
      "A  0.7736  0.0536  0.5736  \n",
      "B  0.2936  0.0436  0.6736  \n",
      "C  1.4036  1.1036  1.3036  \n",
      "D  1.1036  1.3036  1.2036  \n",
      "E     NaN     NaN     NaN  \n",
      "F     NaN     NaN     NaN  \n",
      "G     NaN     NaN     NaN  \n",
      "H     NaN     NaN     NaN  \n"
     ]
    }
   ],
   "source": [
    "#subtract bgAvg from all df2 cells\n",
    "s = 0\n",
    "subData = []\n",
    "for s in df2:\n",
    "    subData = df2 - bgAvg\n",
    "    s+=1\n",
    "#print(subData)\n"
   ]
  },
  {
   "cell_type": "code",
   "execution_count": 9,
   "metadata": {},
   "outputs": [],
   "source": [
    "#paste subtracted data into excel\n",
    "rows = dataframe_to_rows(subData)\n",
    "\n",
    "for r_idx, row in enumerate(rows, 23):\n",
    "    for c_idx, value in enumerate(row, 1):\n",
    "        ws.cell(row=r_idx, column=c_idx, value=value)\n",
    "\n",
    "wb.save(filename)"
   ]
  },
  {
   "cell_type": "code",
   "execution_count": 10,
   "metadata": {},
   "outputs": [],
   "source": [
    "#identify standards \n",
    "\n",
    "stA = findPosInDf(df, 'A')\n",
    "stB = findPosInDf(df, 'B')\n",
    "stC = findPosInDf(df, 'C')\n",
    "stD = findPosInDf(df, 'D')\n",
    "stE = findPosInDf(df, 'E')\n",
    "stF = findPosInDf(df, 'F')\n",
    "stG = findPosInDf(df, 'G')\n",
    "stH = findPosInDf(df, 'H')\n",
    "\n",
    "stAll = [stA, stB, stC, stD, stE, stF, stG, stH]\n"
   ]
  },
  {
   "cell_type": "code",
   "execution_count": 34,
   "metadata": {
    "scrolled": true
   },
   "outputs": [
    {
     "ename": "SyntaxError",
     "evalue": "unexpected EOF while parsing (<ipython-input-34-9bbc0dab971b>, line 5)",
     "output_type": "error",
     "traceback": [
      "\u001b[0;36m  File \u001b[0;32m\"<ipython-input-34-9bbc0dab971b>\"\u001b[0;36m, line \u001b[0;32m5\u001b[0m\n\u001b[0;31m    val.append(df2.iat[n[0], n[1]]\u001b[0m\n\u001b[0m                                  ^\u001b[0m\n\u001b[0;31mSyntaxError\u001b[0m\u001b[0;31m:\u001b[0m unexpected EOF while parsing\n"
     ]
    }
   ],
   "source": []
  },
  {
   "cell_type": "code",
   "execution_count": null,
   "metadata": {},
   "outputs": [],
   "source": []
  }
 ],
 "metadata": {
  "kernelspec": {
   "display_name": "Python 3",
   "language": "python",
   "name": "python3"
  },
  "language_info": {
   "codemirror_mode": {
    "name": "ipython",
    "version": 3
   },
   "file_extension": ".py",
   "mimetype": "text/x-python",
   "name": "python",
   "nbconvert_exporter": "python",
   "pygments_lexer": "ipython3",
   "version": "3.9.1"
  }
 },
 "nbformat": 4,
 "nbformat_minor": 4
}
