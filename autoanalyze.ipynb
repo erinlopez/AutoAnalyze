{
 "cells": [
  {
   "cell_type": "code",
   "execution_count": 40,
   "metadata": {
    "scrolled": true
   },
   "outputs": [],
   "source": [
    "from openpyxl import load_workbook\n",
    "import pandas as pd \n",
    "import numpy as np\n",
    "from itertools import islice\n",
    "from openpyxl.utils import FORMULAE\n"
   ]
  },
  {
   "cell_type": "code",
   "execution_count": 38,
   "metadata": {},
   "outputs": [
    {
     "name": "stdout",
     "output_type": "stream",
     "text": [
      "    1    2    3    4    5    6    7    8    9     10    11    12\n",
      "A   S1   S2   S3   S4   S5   S6   S7   S8   S9   S10   S11   S12\n",
      "B   S1   S2   S3   S4   S5   S6   S7   S8   S9   S10   S11   S12\n",
      "C  S13  S14  S15  S16  S17  S18  S19  S20  S21   S22   S23   S24\n",
      "D  S13  S14  S15  S16  S17  S18  S19  S20  S21   S22   S23   S24\n",
      "E  S25  S26  S27  S28  S29  S30  S31  S32  S33   S34   S35   S36\n",
      "F  S25  S26  S27  S28  S29  S30  S31  S32  S33   S34   S35   S36\n",
      "G    A    B    C    D    E    F    G    H    I  None  None  None\n",
      "H    A    B    C    D    E    F    G    H    I  None  None  None \n",
      "        1      2       3       4      5       6      7       8       9     10  \\\n",
      "A  0.7000  0.600  0.4000  0.2000  0.600  0.1000  0.990  0.7000  0.9300  0.87   \n",
      "B  0.8000  0.930  0.4300  0.2400  0.930  0.1000  1.030  0.8900  0.8100  0.39   \n",
      "C  1.2000  1.600  1.3000  1.6000  1.300  1.9000  1.300  1.7000  1.3300  1.50   \n",
      "D  1.5000  1.200  1.4000  1.6000  1.000  1.8000  1.400  1.2000  1.5000  1.20   \n",
      "E     NaN    NaN     NaN     NaN    NaN     NaN    NaN     NaN     NaN   NaN   \n",
      "F     NaN    NaN     NaN     NaN    NaN     NaN    NaN     NaN     NaN   NaN   \n",
      "G  1.9515  1.501  0.9925  0.7905  0.559  0.3195  0.225  0.1275  0.0945   NaN   \n",
      "H  1.9732  1.490  1.0020  0.7623  0.603  0.3199  0.240  0.1425  0.0983   NaN   \n",
      "\n",
      "     11    12  \n",
      "A  0.15  0.67  \n",
      "B  0.14  0.77  \n",
      "C  1.20  1.40  \n",
      "D  1.40  1.30  \n",
      "E   NaN   NaN  \n",
      "F   NaN   NaN  \n",
      "G   NaN   NaN  \n",
      "H   NaN   NaN  \n"
     ]
    }
   ],
   "source": [
    "# wb = load_workbook('sample.xlsx')\n",
    "\n",
    "wb = load_workbook('sample.xlsx')\n",
    "ws = wb['Sheet1']\n",
    "\n",
    "#create df of plate map\n",
    "samp = ws.values\n",
    "columns = next(samp)[1:]\n",
    "samp = list(samp)\n",
    "idx = [r[0] for r in samp]\n",
    "samp = (islice(r, 1, None) for r in samp)\n",
    "df = pd.DataFrame(samp, index=idx, columns=columns)\n",
    "\n",
    "#create df of raw data values\n",
    "ws2 = wb['Sheet2']\n",
    "\n",
    "data = ws2.values\n",
    "columns = next(data)[1:]\n",
    "data = list(data)\n",
    "idx = [r[0] for r in data]\n",
    "data = (islice(r, 1, None) for r in data)\n",
    "df2 = pd.DataFrame(data, index=idx, columns=columns)\n",
    "\n",
    "print(df, '\\n', df2)"
   ]
  },
  {
   "cell_type": "code",
   "execution_count": 39,
   "metadata": {},
   "outputs": [
    {
     "name": "stdout",
     "output_type": "stream",
     "text": [
      "0.0945\n",
      "0.0983\n"
     ]
    }
   ],
   "source": [
    "#find position of specific value in df\n",
    "\n",
    "def findPosInDf(dfIn,findme):\n",
    "    positions = []\n",
    "    irow =0\n",
    "    while ( irow < len(dfIn.index)):\n",
    "        list_colPositions=dfIn.columns[dfIn.iloc[irow,:]==findme].tolist()   \n",
    "        if list_colPositions != []:\n",
    "            colu_iloc = dfIn.columns.get_loc(list_colPositions[0])\n",
    "            positions.append([irow  , colu_iloc ])\n",
    "        irow +=1\n",
    "\n",
    "    return positions\n",
    "\n",
    "\n",
    "#print(findPosInDf(df, 'I'))\n",
    "\n",
    "bgPos = findPosInDf(df, 'I')\n",
    "\n",
    "#loop to give value at every position of 'I'\n",
    "for x in bgPos:  \n",
    "    print(df2.iat[x[0],x[1]])\n",
    "    \n",
    "\n",
    "\n",
    "\n"
   ]
  },
  {
   "cell_type": "code",
   "execution_count": null,
   "metadata": {},
   "outputs": [],
   "source": []
  },
  {
   "cell_type": "code",
   "execution_count": null,
   "metadata": {},
   "outputs": [],
   "source": []
  },
  {
   "cell_type": "code",
   "execution_count": null,
   "metadata": {},
   "outputs": [],
   "source": []
  },
  {
   "cell_type": "code",
   "execution_count": null,
   "metadata": {},
   "outputs": [],
   "source": []
  },
  {
   "cell_type": "code",
   "execution_count": null,
   "metadata": {},
   "outputs": [],
   "source": []
  },
  {
   "cell_type": "code",
   "execution_count": null,
   "metadata": {},
   "outputs": [],
   "source": []
  },
  {
   "cell_type": "code",
   "execution_count": null,
   "metadata": {},
   "outputs": [],
   "source": []
  },
  {
   "cell_type": "code",
   "execution_count": null,
   "metadata": {},
   "outputs": [],
   "source": []
  },
  {
   "cell_type": "code",
   "execution_count": null,
   "metadata": {},
   "outputs": [],
   "source": []
  }
 ],
 "metadata": {
  "kernelspec": {
   "display_name": "Python 3",
   "language": "python",
   "name": "python3"
  },
  "language_info": {
   "codemirror_mode": {
    "name": "ipython",
    "version": 3
   },
   "file_extension": ".py",
   "mimetype": "text/x-python",
   "name": "python",
   "nbconvert_exporter": "python",
   "pygments_lexer": "ipython3",
   "version": "3.9.1"
  }
 },
 "nbformat": 4,
 "nbformat_minor": 4
}
