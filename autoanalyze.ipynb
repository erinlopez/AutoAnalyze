{
 "cells": [
  {
   "cell_type": "code",
   "execution_count": 1,
   "metadata": {
    "scrolled": true
   },
   "outputs": [],
   "source": [
    "from openpyxl.reader.excel import load_workbook\n",
    "import pandas as pd \n",
    "import numpy as np\n",
    "from itertools import islice\n",
    "from openpyxl.utils import FORMULAE\n",
    "from openpyxl.utils.dataframe import dataframe_to_rows\n",
    "from openpyxl.styles import Border, Side\n",
    "from openpyxl.formatting.rule import ColorScaleRule, CellIsRule, FormulaRule\n",
    "import statistics\n",
    "from openpyxl.chart import (ScatterChart, Reference, Series)"
   ]
  },
  {
   "cell_type": "code",
   "execution_count": 2,
   "metadata": {},
   "outputs": [
    {
     "name": "stdout",
     "output_type": "stream",
     "text": [
      "                  1       2        3       4       5       6       7       8   \\\n",
      "A                 S1      S2       S3      S4      S5      S6      S7      S8   \n",
      "B                 S1      S2       S3      S4      S5      S6      S7      S8   \n",
      "C                S13     S14      S15     S16     S17     S18     S19     S20   \n",
      "D                S13     S14      S15     S16     S17     S18     S19     S20   \n",
      "E                S25     S26      S27     S28     S29     S30     S31     S32   \n",
      "F                S25     S26      S27     S28     S29     S30     S31     S32   \n",
      "G                  A       B        C       D       E       F       G       H   \n",
      "H                  A       B        C       D       E       F       G       H   \n",
      "NaN             None    None     None    None    None    None    None    None   \n",
      "NaN                1       2        3       4       5       6       7       8   \n",
      "Raw Data           1       2        3       4       5       6       7       8   \n",
      "A            0.70000  0.6000  0.40000  0.2000  0.6000  0.1000  0.9900  0.7000   \n",
      "B            0.80000  0.9300  0.43000  0.2400  0.9300  0.1000  1.0300  0.8900   \n",
      "C            1.20000  1.6000  1.30000  1.6000  1.3000  1.9000  1.3000  1.7000   \n",
      "D            1.50000  1.2000  1.40000  1.6000       1  1.8000  1.4000  1.2000   \n",
      "E               None    None     None    None    None    None    None    None   \n",
      "F               None    None     None    None    None    None    None    None   \n",
      "G            1.95150  1.5010  0.99250  0.7905  0.5590  0.3195  0.2250  0.1275   \n",
      "H            1.97320  1.4900  1.00200  0.7623  0.6030  0.3199  0.2400  0.1425   \n",
      "NaN             None    None     None    None    None    None    None    None   \n",
      "Avg BG:      0.09640    None     None    None    None    None    None    None   \n",
      "NaN                1       2        3       4       5       6       7       8   \n",
      "BG Subtract        1       2        3       4       5       6       7       8   \n",
      "A            0.60360  0.5036  0.30360  0.1036  0.5036  0.0036  0.8936  0.6036   \n",
      "B            0.70360  0.8336  0.33360  0.1436  0.8336  0.0036  0.9336  0.7936   \n",
      "C            1.10360  1.5036  1.20360  1.5036  1.2036  1.8036  1.2036  1.6036   \n",
      "D            1.40360  1.1036  1.30360  1.5036  0.9036  1.7036  1.3036  1.1036   \n",
      "E               None    None     None    None    None    None    None    None   \n",
      "F               None    None     None    None    None    None    None    None   \n",
      "G            1.85510  1.4046  0.89610  0.6941  0.4626  0.2231  0.1286  0.0311   \n",
      "H            1.87680  1.3936  0.90560  0.6659  0.5066  0.2235  0.1436  0.0461   \n",
      "Mean Std:    1.86595  1.3991  0.90085  0.6800  0.4846  0.2233  0.1361  0.0386   \n",
      "ug/ml:          2000    1500     1000     750     500     250     125      50   \n",
      "\n",
      "                 9       10      11      12  \n",
      "A                S9     S10     S11     S12  \n",
      "B                S9     S10     S11     S12  \n",
      "C               S21     S22     S23     S24  \n",
      "D               S21     S22     S23     S24  \n",
      "E               S33     S34     S35     S36  \n",
      "F               S33     S34     S35     S36  \n",
      "G                 I    None    None    None  \n",
      "H                 I    None    None    None  \n",
      "NaN            None    None    None    None  \n",
      "NaN               9      10      11      12  \n",
      "Raw Data          9      10      11      12  \n",
      "A            0.9300  0.8700  0.1500  0.6700  \n",
      "B            0.8100  0.3900  0.1400  0.7700  \n",
      "C            1.3300  1.5000  1.2000  1.4000  \n",
      "D            1.5000  1.2000  1.4000  1.3000  \n",
      "E              None    None    None    None  \n",
      "F              None    None    None    None  \n",
      "G            0.0945    None    None    None  \n",
      "H            0.0983    None    None    None  \n",
      "NaN            None    None    None    None  \n",
      "Avg BG:        None    None    None    None  \n",
      "NaN               9      10      11      12  \n",
      "BG Subtract       9      10      11      12  \n",
      "A            0.8336  0.7736  0.0536  0.5736  \n",
      "B            0.7136  0.2936  0.0436  0.6736  \n",
      "C            1.2336  1.4036  1.1036  1.3036  \n",
      "D            1.4036  1.1036  1.3036  1.2036  \n",
      "E              None    None    None    None  \n",
      "F              None    None    None    None  \n",
      "G           -0.0019    None    None    None  \n",
      "H            0.0019    None    None    None  \n",
      "Mean Std:    0.0019    None    None    None  \n",
      "ug/ml:         None    None    None    None   \n",
      "        1      2       3       4      5       6      7       8       9     10  \\\n",
      "A  0.7000  0.600  0.4000  0.2000  0.600  0.1000  0.990  0.7000  0.9300  0.87   \n",
      "B  0.8000  0.930  0.4300  0.2400  0.930  0.1000  1.030  0.8900  0.8100  0.39   \n",
      "C  1.2000  1.600  1.3000  1.6000  1.300  1.9000  1.300  1.7000  1.3300  1.50   \n",
      "D  1.5000  1.200  1.4000  1.6000  1.000  1.8000  1.400  1.2000  1.5000  1.20   \n",
      "E     NaN    NaN     NaN     NaN    NaN     NaN    NaN     NaN     NaN   NaN   \n",
      "F     NaN    NaN     NaN     NaN    NaN     NaN    NaN     NaN     NaN   NaN   \n",
      "G  1.9515  1.501  0.9925  0.7905  0.559  0.3195  0.225  0.1275  0.0945   NaN   \n",
      "H  1.9732  1.490  1.0020  0.7623  0.603  0.3199  0.240  0.1425  0.0983   NaN   \n",
      "\n",
      "     11    12  \n",
      "A  0.15  0.67  \n",
      "B  0.14  0.77  \n",
      "C  1.20  1.40  \n",
      "D  1.40  1.30  \n",
      "E   NaN   NaN  \n",
      "F   NaN   NaN  \n",
      "G   NaN   NaN  \n",
      "H   NaN   NaN  \n"
     ]
    }
   ],
   "source": [
    "# wb = load_workbook('sample.xlsx')\n",
    "\n",
    "filename = 'sample.xlsx'\n",
    "wb = load_workbook(filename)\n",
    "ws = wb['Sheet1']\n",
    "\n",
    "#create df of plate map\n",
    "samp = ws.values\n",
    "columns = next(samp)[1:]\n",
    "samp = list(samp)\n",
    "idx = [r[0] for r in samp]\n",
    "samp = (islice(r, 1, None) for r in samp)\n",
    "df = pd.DataFrame(samp, index=idx, columns=columns)\n",
    "\n",
    "#create df of raw data values\n",
    "ws2 = wb['Sheet2']\n",
    "\n",
    "data = ws2.values\n",
    "columns = next(data)[1:]\n",
    "data = list(data)\n",
    "idx = [r[0] for r in data]\n",
    "data = (islice(r, 1, None) for r in data)\n",
    "df2 = pd.DataFrame(data, index=idx, columns=columns)\n",
    "\n",
    "print(df, '\\n', df2)"
   ]
  },
  {
   "cell_type": "code",
   "execution_count": 3,
   "metadata": {
    "scrolled": true
   },
   "outputs": [],
   "source": [
    "#find position of specific value in df\n",
    "\n",
    "def findPosInDf(dfIn,findme):\n",
    "    positions = []\n",
    "    irow =0\n",
    "    while ( irow < len(dfIn.index)):\n",
    "        list_colPositions=dfIn.columns[dfIn.iloc[irow,:]==findme].tolist()   \n",
    "        if list_colPositions != []:\n",
    "            colu_iloc = dfIn.columns.get_loc(list_colPositions[0])\n",
    "            positions.append([irow  , colu_iloc ])\n",
    "        irow +=1\n",
    "\n",
    "    return positions\n",
    "\n",
    "\n",
    "#print(findPosInDf(df, 'I'))\n",
    "\n",
    "bgPos = findPosInDf(df, 'I')\n",
    "\n",
    "#loop to give value at every position of 'I'\n",
    "value = []\n",
    "for x in bgPos:  \n",
    "    value.append(df2.iat[x[0],x[1]]) #returns all values for I\n",
    "   \n",
    "#print(value)\n"
   ]
  },
  {
   "cell_type": "code",
   "execution_count": 4,
   "metadata": {},
   "outputs": [],
   "source": [
    "#avg all bgPos values from loop\n",
    "\n",
    "def avg(value):\n",
    "    return sum(value) / len(value)\n",
    "\n",
    "avg(value)\n",
    "bgAvg = avg(value)"
   ]
  },
  {
   "cell_type": "code",
   "execution_count": 5,
   "metadata": {},
   "outputs": [],
   "source": [
    "#paste df2 under df in first excel sheet\n",
    "\n",
    "rows = dataframe_to_rows(df2)\n",
    "\n",
    "for r_idx, row in enumerate(rows, 11):\n",
    "    for c_idx, value in enumerate(row, 1):\n",
    "        ws.cell(row=r_idx, column=c_idx, value=value)\n"
   ]
  },
  {
   "cell_type": "code",
   "execution_count": 6,
   "metadata": {},
   "outputs": [],
   "source": [
    "#input table titles into excel\n",
    "ws['A1'] = 'Plate Map'\n",
    "ws['A12'] = 'Raw Data'\n",
    "\n",
    "ws['A22'] = 'Avg BG:'\n",
    "ws['B22'] = bgAvg\n",
    "\n",
    "ws['A24'] = 'BG Subtract'\n",
    "\n",
    "ws['A33'] = 'Mean Std:'\n",
    "ws['A34'] = 'ug/ml:'\n",
    "wb.save(filename)"
   ]
  },
  {
   "cell_type": "code",
   "execution_count": 7,
   "metadata": {},
   "outputs": [],
   "source": [
    "#format border around cells"
   ]
  },
  {
   "cell_type": "code",
   "execution_count": 8,
   "metadata": {},
   "outputs": [],
   "source": [
    "#subtract bgAvg from all df2 cells\n",
    "s = 0\n",
    "subData = []\n",
    "for s in df2:\n",
    "    subData = df2 - bgAvg\n",
    "    s+=1\n",
    "#print(subData)\n"
   ]
  },
  {
   "cell_type": "code",
   "execution_count": 9,
   "metadata": {},
   "outputs": [],
   "source": [
    "#paste subtracted data into excel\n",
    "rows = dataframe_to_rows(subData)\n",
    "\n",
    "for r_idx, row in enumerate(rows, 23):\n",
    "    for c_idx, value in enumerate(row, 1):\n",
    "        ws.cell(row=r_idx, column=c_idx, value=value)\n",
    "\n",
    "wb.save(filename)"
   ]
  },
  {
   "cell_type": "code",
   "execution_count": 10,
   "metadata": {},
   "outputs": [],
   "source": [
    "#identify standards \n",
    "\n",
    "stA = findPosInDf(df, 'A')\n",
    "stB = findPosInDf(df, 'B')\n",
    "stC = findPosInDf(df, 'C')\n",
    "stD = findPosInDf(df, 'D')\n",
    "stE = findPosInDf(df, 'E')\n",
    "stF = findPosInDf(df, 'F')\n",
    "stG = findPosInDf(df, 'G')\n",
    "stH = findPosInDf(df, 'H')\n",
    "\n",
    "stAll = [stA, stB, stC, stD, stE, stF, stG, stH]  #list of all std positions\n"
   ]
  },
  {
   "cell_type": "code",
   "execution_count": 11,
   "metadata": {},
   "outputs": [
    {
     "name": "stdout",
     "output_type": "stream",
     "text": [
      "[1.8551, 1.4045999999999998, 0.8961, 0.6940999999999999, 0.46260000000000007, 0.22310000000000002, 0.1286, 0.031100000000000003]\n",
      "[1.8768, 1.3936, 0.9056, 0.6658999999999999, 0.5065999999999999, 0.22350000000000003, 0.1436, 0.04609999999999999]\n"
     ]
    }
   ],
   "source": [
    "stSep = []\n",
    "\n",
    "for x in stAll: #isolates 1st std replicates from all std list\n",
    "    stSep.append(x[0])\n",
    "    std1 = []\n",
    "    for x in stSep: #gets value of replicate 1 from bg subtracted data \n",
    "       std1.append(subData.iat[x[0],x[1]])\n",
    "       \n",
    "print(std1)\n",
    "   \n",
    "        \n",
    "stSep2 = []\n",
    "\n",
    "for x in stAll: #isolates 2ns std replicates from all std list\n",
    "    stSep2.append(x[1])\n",
    "    std2 = []\n",
    "    for x in stSep2: #gets value of replicate 2 from bg subtracted data \n",
    "       std2.append(subData.iat[x[0],x[1]])\n",
    "       \n",
    "print(std2)"
   ]
  },
  {
   "cell_type": "code",
   "execution_count": 12,
   "metadata": {},
   "outputs": [
    {
     "name": "stdout",
     "output_type": "stream",
     "text": [
      "[1.86595, 1.3990999999999998, 0.9008499999999999, 0.6799999999999999, 0.48460000000000003, 0.22330000000000003, 0.1361, 0.038599999999999995]\n"
     ]
    }
   ],
   "source": [
    "#mean value for each std\n",
    "a = std1\n",
    "b = std2\n",
    "avgStd = [statistics.mean(k) for k in zip(a, b)]\n",
    "print(avgStd)"
   ]
  },
  {
   "cell_type": "code",
   "execution_count": 13,
   "metadata": {},
   "outputs": [],
   "source": [
    "#put list of std means into excel\n",
    "row = 33\n",
    "\n",
    "for i, value in enumerate(avgStd):\n",
    "    ws.cell(column=i+2, row=row, value=value)\n",
    "wb.save(filename)"
   ]
  },
  {
   "cell_type": "code",
   "execution_count": 14,
   "metadata": {},
   "outputs": [],
   "source": [
    "#put known std values into excel\n",
    "stKnownVal = [2000, 1500, 1000, 750, 500, 250, 125, 50]\n",
    "\n",
    "row = 34\n",
    "\n",
    "for i, value in enumerate(stKnownVal):\n",
    "    ws.cell(column=i+2, row=row, value=value)\n",
    "wb.save(filename)"
   ]
  },
  {
   "cell_type": "code",
   "execution_count": 15,
   "metadata": {},
   "outputs": [],
   "source": [
    "#std curve scatterplot\n",
    "\n",
    "#rows = ['ug/ml', 'Mean Std'], [ws['B34':'I34'], ws['B33':'I33']]\n",
    "\n",
    "#for row in rows: \n",
    " #   ws.append(row) \n",
    " \n",
    "chart = ScatterChart() \n",
    "  \n",
    "# create data for plotting \n",
    "xvalues = Reference(ws, min_col = 2, \n",
    "                    max_col = 9, min_row = 34) \n",
    "                      \n",
    "yvalues = Reference(ws, min_col = 2, \n",
    "                    max_col = 9, min_row = 33) \n",
    "                      \n",
    "size = Reference(ws, min_col = 3, \n",
    "                 min_row = 2, max_row = 5) \n",
    "  \n",
    "# create a 1st series of data \n",
    "series = Series(values = yvalues, xvalues = xvalues, \n",
    "                      zvalues = size, title =\"Std Curve\") \n",
    "  \n",
    "# add series data to the chart object \n",
    "chart.series.append(series) \n",
    "  \n",
    "# set the title of the chart \n",
    "chart.title = \"Std Curve \"\n",
    "  \n",
    "# set the title of the x-axis \n",
    "chart.x_axis.title = \" Mean Abs \"\n",
    "  \n",
    "# set the title of the y-axis \n",
    "chart.y_axis.title = \" ug/ml Protein \"\n",
    "  \n",
    "# add chart to the sheet \n",
    "# the top-left corner of a chart \n",
    "# is anchored to cell E2 . \n",
    "ws.add_chart(chart, \"B40\") \n",
    "  \n",
    "# save the file \n",
    "wb.save(filename) "
   ]
  },
  {
   "cell_type": "code",
   "execution_count": null,
   "metadata": {},
   "outputs": [],
   "source": []
  }
 ],
 "metadata": {
  "kernelspec": {
   "display_name": "Python 3",
   "language": "python",
   "name": "python3"
  },
  "language_info": {
   "codemirror_mode": {
    "name": "ipython",
    "version": 3
   },
   "file_extension": ".py",
   "mimetype": "text/x-python",
   "name": "python",
   "nbconvert_exporter": "python",
   "pygments_lexer": "ipython3",
   "version": "3.9.1"
  }
 },
 "nbformat": 4,
 "nbformat_minor": 4
}
